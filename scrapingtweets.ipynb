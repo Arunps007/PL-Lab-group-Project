{
 "cells": [
  {
   "cell_type": "code",
   "execution_count": 110,
   "metadata": {},
   "outputs": [],
   "source": [
    "import json\n",
    "import tweepy"
   ]
  },
  {
   "cell_type": "code",
   "execution_count": 111,
   "metadata": {},
   "outputs": [],
   "source": [
    "twitter_cred = dict()"
   ]
  },
  {
   "cell_type": "code",
   "execution_count": 112,
   "metadata": {},
   "outputs": [],
   "source": [
    "twitter_cred['CONSUMER_KEY'] = '0bEh2WjzKqYh4hIvQS6VwqIjR'\n",
    "twitter_cred['CONSUMER_SECRET'] = 'BsOx7vXuDJ0m0zczSqfw4xftwvDOkbKrRTdReF9pTxpAbGW2Ms'\n",
    "twitter_cred['ACCESS_KEY'] = '1169646755190693888-2EbkmiYHfc4D6g9pubqlGH1u4PWoaE'\n",
    "twitter_cred['ACCESS_SECRET'] = '2lCeBuYg8MNxCT85Bc5queSytSANJ6l62HJNpo5SB9J7D'"
   ]
  },
  {
   "cell_type": "code",
   "execution_count": 113,
   "metadata": {},
   "outputs": [],
   "source": [
    "with open('twitter_credentials.json') as cred_data:\n",
    "    info = json.load(cred_data)\n",
    "    consumer_key = info['CONSUMER_KEY']\n",
    "    consumer_secret = info['CONSUMER_SECRET']\n",
    "    access_key = info['ACCESS_KEY']\n",
    "    access_secret = info['ACCESS_SECRET']"
   ]
  },
  {
   "cell_type": "code",
   "execution_count": 114,
   "metadata": {},
   "outputs": [],
   "source": [
    "auth = tweepy.OAuthHandler(consumer_key, consumer_secret)\n",
    "auth.set_access_token(access_key, access_secret)\n",
    "api = tweepy.API(auth)"
   ]
  },
  {
   "cell_type": "code",
   "execution_count": 115,
   "metadata": {},
   "outputs": [
    {
     "name": "stdout",
     "output_type": "stream",
     "text": [
      "Lalitha Jewellery heist: Mastermind S Murugan surrenders in Bengaluru\n",
      "\n",
      "(report by M Manikandan and @vikramgopal811)… https://t.co/XqOwHGm76V\n",
      "\n",
      "Date and Time of Tweet:-\n",
      "2019-10-11 16:20:00\n",
      "Watch | Public review of #TheSkyIsPink is out and people are praising the actors’ performance in the film. \n",
      "\n",
      "The mo… https://t.co/eLvaUmsnhR\n",
      "\n",
      "Date and Time of Tweet:-\n",
      "2019-10-11 16:18:27\n",
      "RT @HTSportsNews: #INDvSA | Ravindra Jadeja hilariously avoids stepping on danger area, leaves Virat Kohli impressed | Watch\n",
      "\n",
      "@imVkohli @im…\n",
      "\n",
      "Date and Time of Tweet:-\n",
      "2019-10-11 16:13:19\n",
      "#Opinion | Chinese President #XiJinping upstages Donald Trump with a Chinese welcome mat \n",
      "\n",
      "https://t.co/SY1kb1osRR https://t.co/fXvQMQn4mY\n",
      "\n",
      "Date and Time of Tweet:-\n",
      "2019-10-11 16:10:00\n",
      "RT @HTMumbai: One restaurant, serving Indian food in the city for generations, reintroduces its classics. And they taste just as good as th…\n",
      "\n",
      "Date and Time of Tweet:-\n",
      "2019-10-11 16:09:42\n",
      "#NewsAlert | US has deployed additional 3,000 troops to Saudi Arabia, says Pentagon \n",
      "\n",
      "(AFP)\n",
      "\n",
      "Date and Time of Tweet:-\n",
      "2019-10-11 16:00:28\n",
      "‘Make education and independence, not marriage, your life goals’\n",
      "\n",
      "(reports @rmulko) \n",
      "\n",
      "https://t.co/JUYxSKdUut https://t.co/yrg1MYImzm\n",
      "\n",
      "Date and Time of Tweet:-\n",
      "2019-10-11 16:00:00\n",
      "In Bengal, 90 Indian softshell turtles seized; one arrested\n",
      "\n",
      "https://t.co/q0stkmf0z1 https://t.co/jNt0BLmkUJ\n",
      "\n",
      "Date and Time of Tweet:-\n",
      "2019-10-11 15:55:28\n",
      "#HTNewsBrief  | Here's a look at everything that's making news at this hour\n",
      "\n",
      "https://t.co/9N4iJF3WBi\n",
      "\n",
      "Date and Time of Tweet:-\n",
      "2019-10-11 15:54:27\n",
      "CBI files charge sheet against ex-BJP MLA Kuldeep Sengar, truck driver in Unnao rape survivor accident case… https://t.co/gEm65ZYM8A\n",
      "\n",
      "Date and Time of Tweet:-\n",
      "2019-10-11 15:54:15\n",
      "Profile Name:-\n",
      "Hindustan Times\n",
      "\n",
      "Twitter ID:-\n",
      "htTweets\n",
      "\n",
      "Bio:-\n",
      "One of India's largest media companies. Latest news from around the world. Retweets are not endorsements.\n",
      "\n",
      "Location:-\n",
      "India\n",
      "\n",
      "URL:-\n",
      "http://t.co/dCFWh1CEzO\n",
      "\n",
      "Joined:-\n",
      "2009-04-29 10:11:34\n",
      "\n",
      "Following:-\n",
      "129\n",
      "\n",
      "Followers:-\n",
      "6941278\n",
      "\n",
      "Profile Image:-\n",
      "https://pbs.twimg.com/profile_images/876785263011287040/cgUWlhF3_normal.jpg\n",
      "\n",
      "Coverpage:-\n",
      "https://pbs.twimg.com/profile_banners/36327407/1570155898\n",
      "\n",
      "Verification:-\n",
      "True\n",
      "\n"
     ]
    }
   ],
   "source": [
    "api = tweepy.API(auth)\n",
    "name = \"htTweets\"\n",
    "tweetCount = 10\n",
    "results = api.user_timeline(id=name, count=tweetCount)\n",
    "\n",
    "\n",
    "i=0\n",
    "tweet_data={}\n",
    "for tweet in results:\n",
    "    print(tweet.text)\n",
    "    print()\n",
    "    print('Date and Time of Tweet:-')\n",
    "    print(tweet.created_at) #date of tweet\n",
    "    tweet_data[i]={\"text\":tweet.text,\"date\":str(tweet.created_at)}\n",
    "    i+=1\n",
    "print('Profile Name:-')\n",
    "print(tweet.user.name) #profile name\n",
    "print()\n",
    "print('Twitter ID:-')\n",
    "print(tweet.user.screen_name) #twitter id\n",
    "print()\n",
    "print('Bio:-')\n",
    "print(tweet.user.description) #Bio\n",
    "print()\n",
    "print('Location:-')\n",
    "print(tweet.user.location) #location\n",
    "print()\n",
    "print('URL:-')\n",
    "print(tweet.user.url) #url\n",
    "print()\n",
    "print('Joined:-')\n",
    "print(tweet.user.created_at) #joined date\n",
    "print()\n",
    "print('Following:-')\n",
    "print(tweet.user.friends_count) #following\n",
    "print()\n",
    "print('Followers:-')\n",
    "print(tweet.user.followers_count) #followers\n",
    "print()\n",
    "print('Profile Image:-')\n",
    "print(tweet.user.profile_image_url_https) #profile pic\n",
    "print()\n",
    "print('Coverpage:-')\n",
    "print(tweet.user.profile_banner_url) #coverpage\n",
    "print()\n",
    "print('Verification:-')\n",
    "print(tweet.user.verified) #blue tick\n",
    "print()"
   ]
  },
  {
   "cell_type": "code",
   "execution_count": 123,
   "metadata": {},
   "outputs": [
    {
     "data": {
      "text/plain": [
       "{'Profile Name': 'Hindustan Times',\n",
       " 'Twitter ID': 'htTweets',\n",
       " 'Bio': \"One of India's largest media companies. Latest news from around the world. Retweets are not endorsements.\",\n",
       " 'Location': 'India',\n",
       " 'URL': 'http://t.co/dCFWh1CEzO',\n",
       " 'Joined': datetime.datetime(2009, 4, 29, 10, 11, 34),\n",
       " 'Following': 129,\n",
       " 'Followers': 6941278,\n",
       " 'Profile Image': 'https://pbs.twimg.com/profile_images/876785263011287040/cgUWlhF3_normal.jpg',\n",
       " 'Coverpage': 'https://pbs.twimg.com/profile_banners/36327407/1570155898',\n",
       " 'Verification': True,\n",
       " 'tweet': {0: {'text': 'Lalitha Jewellery heist: Mastermind S Murugan surrenders in Bengaluru\\n\\n(report by M Manikandan and @vikramgopal811)… https://t.co/XqOwHGm76V',\n",
       "   'date': '2019-10-11 16:20:00'},\n",
       "  1: {'text': 'Watch | Public review of #TheSkyIsPink is out and people are praising the actors’ performance in the film. \\n\\nThe mo… https://t.co/eLvaUmsnhR',\n",
       "   'date': '2019-10-11 16:18:27'},\n",
       "  2: {'text': 'RT @HTSportsNews: #INDvSA | Ravindra Jadeja hilariously avoids stepping on danger area, leaves Virat Kohli impressed | Watch\\n\\n@imVkohli @im…',\n",
       "   'date': '2019-10-11 16:13:19'},\n",
       "  3: {'text': '#Opinion | Chinese President #XiJinping upstages Donald Trump with a Chinese welcome mat \\n\\nhttps://t.co/SY1kb1osRR https://t.co/fXvQMQn4mY',\n",
       "   'date': '2019-10-11 16:10:00'},\n",
       "  4: {'text': 'RT @HTMumbai: One restaurant, serving Indian food in the city for generations, reintroduces its classics. And they taste just as good as th…',\n",
       "   'date': '2019-10-11 16:09:42'},\n",
       "  5: {'text': '#NewsAlert | US has deployed additional 3,000 troops to Saudi Arabia, says Pentagon \\n\\n(AFP)',\n",
       "   'date': '2019-10-11 16:00:28'},\n",
       "  6: {'text': '‘Make education and independence, not marriage, your life goals’\\n\\n(reports @rmulko) \\n\\nhttps://t.co/JUYxSKdUut https://t.co/yrg1MYImzm',\n",
       "   'date': '2019-10-11 16:00:00'},\n",
       "  7: {'text': 'In Bengal, 90 Indian softshell turtles seized; one arrested\\n\\nhttps://t.co/q0stkmf0z1 https://t.co/jNt0BLmkUJ',\n",
       "   'date': '2019-10-11 15:55:28'},\n",
       "  8: {'text': \"#HTNewsBrief  | Here's a look at everything that's making news at this hour\\n\\nhttps://t.co/9N4iJF3WBi\",\n",
       "   'date': '2019-10-11 15:54:27'},\n",
       "  9: {'text': 'CBI files charge sheet against ex-BJP MLA Kuldeep Sengar, truck driver in Unnao rape survivor accident case… https://t.co/gEm65ZYM8A',\n",
       "   'date': '2019-10-11 15:54:15'}}}"
      ]
     },
     "execution_count": 123,
     "metadata": {},
     "output_type": "execute_result"
    }
   ],
   "source": [
    "doc={}\n",
    "doc={\"Profile Name\":tweet.user.name,\n",
    "     \"Twitter ID\":tweet.user.screen_name,\n",
    "     \"Bio\":tweet.user.description,\n",
    "     \"Location\":tweet.user.location,\n",
    "     \"URL\":tweet.user.url,\n",
    "     \"Joined\":tweet.user.created_at,\n",
    "     \"Following\":tweet.user.friends_count,\n",
    "     \"Followers\":tweet.user.followers_count,\n",
    "     \"Profile Image\":tweet.user.profile_image_url_https,\n",
    "     \"Coverpage\":tweet.user.profile_banner_url,\n",
    "     \"Verification\":tweet.user.verified,\n",
    "     \"tweet\":tweet_data}\n",
    "   \n",
    "doc"
   ]
  },
  {
   "cell_type": "code",
   "execution_count": 122,
   "metadata": {},
   "outputs": [
    {
     "ename": "AttributeError",
     "evalue": "'_io.TextIOWrapper' object has no attribute 'dumps'",
     "output_type": "error",
     "traceback": [
      "\u001b[0;31m---------------------------------------------------------------------------\u001b[0m",
      "\u001b[0;31mAttributeError\u001b[0m                            Traceback (most recent call last)",
      "\u001b[0;32m<ipython-input-122-cedbd44f554b>\u001b[0m in \u001b[0;36m<module>\u001b[0;34m\u001b[0m\n\u001b[0;32m----> 1\u001b[0;31m \u001b[0mdata\u001b[0m \u001b[0;34m=\u001b[0m \u001b[0mjson\u001b[0m\u001b[0;34m.\u001b[0m\u001b[0mdumps\u001b[0m\u001b[0;34m(\u001b[0m\u001b[0mdoc\u001b[0m\u001b[0;34m,\u001b[0m \u001b[0mindent\u001b[0m\u001b[0;34m=\u001b[0m\u001b[0;36m4\u001b[0m\u001b[0;34m,\u001b[0m \u001b[0msort_keys\u001b[0m\u001b[0;34m=\u001b[0m\u001b[0;32mTrue\u001b[0m\u001b[0;34m,\u001b[0m \u001b[0mdefault\u001b[0m\u001b[0;34m=\u001b[0m\u001b[0mstr\u001b[0m\u001b[0;34m)\u001b[0m\u001b[0;34m\u001b[0m\u001b[0;34m\u001b[0m\u001b[0m\n\u001b[0m",
      "\u001b[0;31mAttributeError\u001b[0m: '_io.TextIOWrapper' object has no attribute 'dumps'"
     ]
    }
   ],
   "source": [
    "data = json.dumps(doc, indent=4, sort_keys=True, default=str)"
   ]
  },
  {
   "cell_type": "code",
   "execution_count": 118,
   "metadata": {},
   "outputs": [
    {
     "data": {
      "text/plain": [
       "'{\\n    \"Bio\": \"One of India\\'s largest media companies. Latest news from around the world. Retweets are not endorsements.\",\\n    \"Coverpage\": \"https://pbs.twimg.com/profile_banners/36327407/1570155898\",\\n    \"Followers\": 6941278,\\n    \"Following\": 129,\\n    \"Joined\": \"2009-04-29 10:11:34\",\\n    \"Location\": \"India\",\\n    \"Profile Image\": \"https://pbs.twimg.com/profile_images/876785263011287040/cgUWlhF3_normal.jpg\",\\n    \"Profile Name\": \"Hindustan Times\",\\n    \"Twitter ID\": \"htTweets\",\\n    \"URL\": \"http://t.co/dCFWh1CEzO\",\\n    \"Verification\": true,\\n    \"tweet\": {\\n        \"0\": {\\n            \"date\": \"2019-10-11 16:20:00\",\\n            \"text\": \"Lalitha Jewellery heist: Mastermind S Murugan surrenders in Bengaluru\\\\n\\\\n(report by M Manikandan and @vikramgopal811)\\\\u2026 https://t.co/XqOwHGm76V\"\\n        },\\n        \"1\": {\\n            \"date\": \"2019-10-11 16:18:27\",\\n            \"text\": \"Watch | Public review of #TheSkyIsPink is out and people are praising the actors\\\\u2019 performance in the film. \\\\n\\\\nThe mo\\\\u2026 https://t.co/eLvaUmsnhR\"\\n        },\\n        \"2\": {\\n            \"date\": \"2019-10-11 16:13:19\",\\n            \"text\": \"RT @HTSportsNews: #INDvSA | Ravindra Jadeja hilariously avoids stepping on danger area, leaves Virat Kohli impressed | Watch\\\\n\\\\n@imVkohli @im\\\\u2026\"\\n        },\\n        \"3\": {\\n            \"date\": \"2019-10-11 16:10:00\",\\n            \"text\": \"#Opinion | Chinese President #XiJinping upstages Donald Trump with a Chinese welcome mat \\\\n\\\\nhttps://t.co/SY1kb1osRR https://t.co/fXvQMQn4mY\"\\n        },\\n        \"4\": {\\n            \"date\": \"2019-10-11 16:09:42\",\\n            \"text\": \"RT @HTMumbai: One restaurant, serving Indian food in the city for generations, reintroduces its classics. And they taste just as good as th\\\\u2026\"\\n        },\\n        \"5\": {\\n            \"date\": \"2019-10-11 16:00:28\",\\n            \"text\": \"#NewsAlert | US has deployed additional 3,000 troops to Saudi Arabia, says Pentagon \\\\n\\\\n(AFP)\"\\n        },\\n        \"6\": {\\n            \"date\": \"2019-10-11 16:00:00\",\\n            \"text\": \"\\\\u2018Make education and independence, not marriage, your life goals\\\\u2019\\\\n\\\\n(reports @rmulko) \\\\n\\\\nhttps://t.co/JUYxSKdUut https://t.co/yrg1MYImzm\"\\n        },\\n        \"7\": {\\n            \"date\": \"2019-10-11 15:55:28\",\\n            \"text\": \"In Bengal, 90 Indian softshell turtles seized; one arrested\\\\n\\\\nhttps://t.co/q0stkmf0z1 https://t.co/jNt0BLmkUJ\"\\n        },\\n        \"8\": {\\n            \"date\": \"2019-10-11 15:54:27\",\\n            \"text\": \"#HTNewsBrief  | Here\\'s a look at everything that\\'s making news at this hour\\\\n\\\\nhttps://t.co/9N4iJF3WBi\"\\n        },\\n        \"9\": {\\n            \"date\": \"2019-10-11 15:54:15\",\\n            \"text\": \"CBI files charge sheet against ex-BJP MLA Kuldeep Sengar, truck driver in Unnao rape survivor accident case\\\\u2026 https://t.co/gEm65ZYM8A\"\\n        }\\n    }\\n}'"
      ]
     },
     "execution_count": 118,
     "metadata": {},
     "output_type": "execute_result"
    }
   ],
   "source": [
    "data"
   ]
  },
  {
   "cell_type": "code",
   "execution_count": 125,
   "metadata": {},
   "outputs": [],
   "source": [
    "import os\n",
    "json = open(\"Hindustan_Times_twitter_json_data.json\",'w')\n",
    "json.write(data)\n",
    "json.close()"
   ]
  }
 ],
 "metadata": {
  "kernelspec": {
   "display_name": "Python 3",
   "language": "python",
   "name": "python3"
  },
  "language_info": {
   "codemirror_mode": {
    "name": "ipython",
    "version": 3
   },
   "file_extension": ".py",
   "mimetype": "text/x-python",
   "name": "python",
   "nbconvert_exporter": "python",
   "pygments_lexer": "ipython3",
   "version": "3.7.3"
  }
 },
 "nbformat": 4,
 "nbformat_minor": 2
}
